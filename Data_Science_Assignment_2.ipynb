{
  "nbformat": 4,
  "nbformat_minor": 0,
  "metadata": {
    "colab": {
      "provenance": [],
      "authorship_tag": "ABX9TyPPBjNmcLUu5QXeWPZqQXrB",
      "include_colab_link": true
    },
    "kernelspec": {
      "name": "python3",
      "display_name": "Python 3"
    },
    "language_info": {
      "name": "python"
    }
  },
  "cells": [
    {
      "cell_type": "markdown",
      "metadata": {
        "id": "view-in-github",
        "colab_type": "text"
      },
      "source": [
        "<a href=\"https://colab.research.google.com/github/Nimchumba/DATA-SCIENCE-ASSIGNMENT-2/blob/main/Data_Science_Assignment_2.ipynb\" target=\"_parent\"><img src=\"https://colab.research.google.com/assets/colab-badge.svg\" alt=\"Open In Colab\"/></a>"
      ]
    },
    {
      "cell_type": "code",
      "execution_count": 4,
      "metadata": {
        "colab": {
          "base_uri": "https://localhost:8080/"
        },
        "id": "KqVfTqhefrJW",
        "outputId": "d5929d80-d8a8-49ea-834d-28dcc67f185f"
      },
      "outputs": [
        {
          "output_type": "stream",
          "name": "stdout",
          "text": [
            "✅ Dataset 'road_accidents.csv' created successfully!\n",
            "\n",
            "Model Evaluation:\n",
            "Mean Squared Error: 0.035\n",
            "R² Score: 0.623\n",
            "\n",
            "✅ Model saved as 'accident_severity_model.pkl'\n",
            "\n",
            "Example Prediction for sample:\n",
            "   Vehicle_Speed  Weather_Condition  Road_Surface  Light_Condition  \\\n",
            "0            100                  2             2                3   \n",
            "\n",
            "   Driver_Age  Vehicle_Age  \n",
            "0          25            8  \n",
            "Predicted Accident Severity: 2.86\n"
          ]
        }
      ],
      "source": [
        "# ==========================\n",
        "# LINEAR REGRESSION MODEL FOR ROAD ACCIDENT ANALYSIS\n",
        "# ==========================\n",
        "\n",
        "\n",
        "import pandas as pd\n",
        "import numpy as np\n",
        "from sklearn.model_selection import train_test_split\n",
        "from sklearn.linear_model import LinearRegression\n",
        "from sklearn.metrics import mean_squared_error, r2_score\n",
        "import joblib\n",
        "\n",
        "\n",
        "np.random.seed(42)\n",
        "n = 100\n",
        "\n",
        "data = pd.DataFrame({\n",
        "    'Vehicle_Speed': np.random.randint(30, 140, n),\n",
        "    'Weather_Condition': np.random.choice([1, 2, 3], n),   # 1=Clear, 2=Rainy, 3=Foggy\n",
        "    'Road_Surface': np.random.choice([1, 2, 3], n),        # 1=Dry, 2=Wet, 3=Icy\n",
        "    'Light_Condition': np.random.choice([1, 2, 3], n),     # 1=Daylight, 2=Night with lights, 3=Night no lights\n",
        "    'Driver_Age': np.random.randint(18, 65, n),\n",
        "    'Vehicle_Age': np.random.randint(1, 15, n)\n",
        "})\n",
        "\n",
        "# Simulate severity (0=Minor, 1=Serious, 2=Fatal)\n",
        "# Severity increases with higher speed, bad weather, poor lighting, and older vehicle\n",
        "data['Accident_Severity'] = (\n",
        "    0.01 * data['Vehicle_Speed'] +\n",
        "    0.3 * data['Weather_Condition'] +\n",
        "    0.25 * data['Road_Surface'] +\n",
        "    0.2 * data['Light_Condition'] +\n",
        "    0.005 * data['Driver_Age'] +\n",
        "    0.02 * data['Vehicle_Age'] +\n",
        "    np.random.normal(0, 0.2, n)\n",
        ")\n",
        "\n",
        "# Normalize severity between 0 and 3 for realism\n",
        "data['Accident_Severity'] = np.clip(data['Accident_Severity'], 0, 3)\n",
        "\n",
        "\n",
        "data.to_csv('road_accidents.csv', index=False)\n",
        "print(\"✅ Dataset 'road_accidents.csv' created successfully!\")\n",
        "\n",
        "\n",
        "X = data[['Vehicle_Speed', 'Weather_Condition', 'Road_Surface', 'Light_Condition', 'Driver_Age', 'Vehicle_Age']]\n",
        "y = data['Accident_Severity']\n",
        "\n",
        "\n",
        "X_train, X_test, y_train, y_test = train_test_split(X, y, test_size=0.2, random_state=42)\n",
        "\n",
        "\n",
        "model = LinearRegression()\n",
        "model.fit(X_train, y_train)\n",
        "\n",
        "\n",
        "y_pred = model.predict(X_test)\n",
        "print(\"\\nModel Evaluation:\")\n",
        "print(\"Mean Squared Error:\", round(mean_squared_error(y_test, y_pred), 3))\n",
        "print(\"R² Score:\", round(r2_score(y_test, y_pred), 3))\n",
        "\n",
        "\n",
        "joblib.dump(model, 'accident_severity_model.pkl')\n",
        "print(\"\\n✅ Model saved as 'accident_severity_model.pkl'\")\n",
        "\n",
        "\n",
        "sample = pd.DataFrame([[100, 2, 2, 3, 25, 8]],\n",
        "                      columns=['Vehicle_Speed', 'Weather_Condition', 'Road_Surface', 'Light_Condition', 'Driver_Age', 'Vehicle_Age'])\n",
        "\n",
        "prediction = model.predict(sample)\n",
        "print(\"\\nExample Prediction for sample:\")\n",
        "print(sample)\n",
        "print(\"Predicted Accident Severity:\", round(prediction[0], 2))\n"
      ]
    }
  ]
}